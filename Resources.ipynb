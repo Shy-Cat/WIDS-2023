{
  "nbformat": 4,
  "nbformat_minor": 0,
  "metadata": {
    "colab": {
      "provenance": []
    },
    "kernelspec": {
      "name": "python3",
      "display_name": "Python 3"
    },
    "language_info": {
      "name": "python"
    }
  },
  "cells": [
    {
      "cell_type": "markdown",
      "source": [
        "# **Week 1**\n",
        "\n",
        "\n",
        "*   You will be doing all of your assignments and the final project on Google Colab. So here is a quick tutorial to help you start with Colab. If you are already comfortable with Colab then you can comfortably skip this.\n",
        "\n",
        "  [Google Collab](https://www.tutorialspoint.com/google_colab/index.htm) and/or [this brief (3 minute) YouTube video introduction to Google Colab](https://www.youtube.com/watch?v=inN8seMm7UI) and/ or [reading this short (1 page) introductory explanation](https://colab.research.google.com/notebooks/intro.ipynb)\n",
        "\n",
        "\n",
        "\n",
        "\n",
        "*   If you are not quite comfortable with Python, this tutorial will help you get started. I will recommend not downloading any of the IDE, etc. You can write the Python code directly in Colab. Even if you are comfortable with Python, its always a good idea to do a quick review\n",
        "  \n",
        "  [1hr Crash Course](https://www.youtube.com/watch?v=kqtD5dpn9C8) and/ or [A bit more detailed tutorial](https://www.youtube.com/watch?v=yE9v9rt6ziw&list=PLTjRvDozrdlxj5wgH4qkvwSOdHLOCx10f&index=3)\n",
        "  \n",
        "\n",
        "\n",
        "*   Having a basic idea of github is always useful. Try going through this tutorial.\n",
        "  \n",
        "  [Git and GitHub](https://www.youtube.com/watch?v=RGOj5yH7evk&t=1664s)\n",
        "\n",
        "*  Now we will discuss some mathematics behind Machine Learning(Don’t worry! It’s not so difficult). This will help you get an intuitive understanding of Machine learning and also help you to figure out issues in your implementation of any model in the future.\n",
        "\n",
        "  [Probability and Statistics](https://towardsdatascience.com/probability-for-machine-learning-2cfe4aa13101)\n",
        "  \n",
        "  [Maximum Likelihood Estimation](https://towardsdatascience.com/probability-concepts-explained-maximum-likelihood-estimation-c7b4342fdbb1)\n",
        "\n",
        "  [MLE calculation for a Gaussian](https://www.youtube.com/watch?v=00krscK7iBA)\n",
        "  \n",
        "*   Data manipulation is very important before applying any Machine Learning Algorithm to it. For the rest of this week, you will understand how to deal with data and analyse it to gain meaningful insights. There are 3 important libraries which you should master to manipulate data according to your needs. They are NumPy, Pandas and Matplotlib. Watch the following videos and try them out for practice.\n",
        "\n",
        "  [Numpy](https://www.youtube.com/watch?v=8Y0qQEh7dJg)\n",
        "\n",
        "  [Pandas](https://www.youtube.com/watch?v=PcvsOaixUh8)\n",
        "\n",
        "  [Matplotlib](https://www.youtube.com/watch?v=wB9C0Mz9gSo)\n",
        "\n",
        "*   For those who are already well versed in ML, try implymenting [this paper :)](https://pubs.acs.org/doi/10.1021/acs.jchemed.2c00682)\n",
        "\n",
        "#**Week 2**\n",
        "* We will now be learning [RDKit Module](https://www.youtube.com/watch?v=9Z9XM9xamDU) will be a lot helpful in our journey.\n",
        "* *GET DATA*\n",
        "  \n",
        "  Try to get a sample dataset of your choice (easy to do so using chatgpt or a proper google search will help you out) and impliment what is been added to snippets file\n",
        "\n",
        "* **IMPORTANT**\n",
        "\n",
        "  Please do search for a research paper in your interested domain and try to apply what you learn based on that. This will be your final project and the deadine seems to be 15 Jan, earlier than told but, will try my best to get you all know whatever I can.\n",
        "\n",
        "\n",
        "  Data Preprocessing has been added in snippets file do try to complete till here by today and do the preprocessing using your own dataset for better results.\n",
        "\n",
        "∇\n",
        "\n",
        "Note: - Let us know when you are done, we will add the further bits.\n",
        "\n",
        "\n",
        "\n",
        "\n",
        "\n",
        "\n",
        "\n",
        "  "
      ],
      "metadata": {
        "id": "fnZiCYJYViAU"
      }
    }
  ]
}
